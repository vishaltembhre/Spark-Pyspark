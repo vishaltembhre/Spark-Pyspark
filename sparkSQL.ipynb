{
 "cells": [
  {
   "cell_type": "code",
   "execution_count": 5,
   "metadata": {},
   "outputs": [],
   "source": [
    "from pyspark.sql import SparkSession"
   ]
  },
  {
   "cell_type": "code",
   "execution_count": 25,
   "metadata": {},
   "outputs": [],
   "source": [
    "# Create a SparkSession\n",
    "spark = SparkSession.builder \\\n",
    "    .appName(\"SparkSQLApp\") \\\n",
    "    .master(\"local[4]\") \\\n",
    "    .getOrCreate()\n",
    "\n",
    "# Access SparkContext from SparkSession\n",
    "sc = spark.sparkContext"
   ]
  },
  {
   "cell_type": "code",
   "execution_count": 10,
   "metadata": {},
   "outputs": [
    {
     "name": "stdout",
     "output_type": "stream",
     "text": [
      "Spark UI is available at: http://LAPTOP-1DNSHCL1:4040\n"
     ]
    }
   ],
   "source": [
    "spark_ui_url = sc.uiWebUrl\n",
    "print(f\"Spark UI is available at: {spark_ui_url}\")"
   ]
  },
  {
   "cell_type": "code",
   "execution_count": 28,
   "metadata": {},
   "outputs": [
    {
     "name": "stdout",
     "output_type": "stream",
     "text": [
      "+--------+\n",
      "|count(1)|\n",
      "+--------+\n",
      "|   50985|\n",
      "+--------+\n",
      "\n",
      "+-----------------------------+\n",
      "|count(DISTINCT Variable_name)|\n",
      "+-----------------------------+\n",
      "|                           41|\n",
      "+-----------------------------+\n",
      "\n"
     ]
    }
   ],
   "source": [
    "try:\n",
    "    # Read the CSV file\n",
    "    csv_df = spark.read.csv(\"C:/Users/Vishal/spark-pyspark/data/annual-enterprise-survey-2023-financial-year-provisional.csv\", header=True, inferSchema=True)\n",
    "\n",
    "    csv_df.createOrReplaceTempView(\"t1\")\n",
    "\n",
    "    result = spark.sql(\"SELECT count(*) FROM t1 LIMIT 10\")\n",
    "\n",
    "    result2 = spark.sql(\"select count(distinct Variable_name) from t1 /*order by year*/ limit 200;\")\n",
    "\n",
    "    # Show the result\n",
    "    result.show()\n",
    "    result2.show()\n",
    "\n",
    "\n",
    "except Exception as e:\n",
    "    print(f\"Error: {e}\")"
   ]
  },
  {
   "cell_type": "code",
   "execution_count": null,
   "metadata": {},
   "outputs": [
    {
     "name": "stdout",
     "output_type": "stream",
     "text": [
      "root\n",
      " |-- batters: struct (nullable = true)\n",
      " |    |-- batter: array (nullable = true)\n",
      " |    |    |-- element: struct (containsNull = true)\n",
      " |    |    |    |-- id: string (nullable = true)\n",
      " |    |    |    |-- type: string (nullable = true)\n",
      " |-- id: string (nullable = true)\n",
      " |-- name: string (nullable = true)\n",
      " |-- ppu: double (nullable = true)\n",
      " |-- topping: array (nullable = true)\n",
      " |    |-- element: struct (containsNull = true)\n",
      " |    |    |-- id: string (nullable = true)\n",
      " |    |    |-- type: string (nullable = true)\n",
      " |-- type: string (nullable = true)\n",
      "\n",
      "+-------------------------------------------------------------------------------+----+-------------+----+-----------------------------------------------------------------------------------------------------------------------------------------+-----+\n",
      "|batters                                                                        |id  |name         |ppu |topping                                                                                                                                  |type |\n",
      "+-------------------------------------------------------------------------------+----+-------------+----+-----------------------------------------------------------------------------------------------------------------------------------------+-----+\n",
      "|{[{1001, Regular}, {1002, Chocolate}, {1003, Blueberry}, {1004, Devil's Food}]}|0001|Cake         |0.55|[{5001, None}, {5002, Glazed}, {5005, Sugar}, {5007, Powdered Sugar}, {5006, Chocolate with Sprinkles}, {5003, Chocolate}, {5004, Maple}]|donut|\n",
      "|{[{1001, Regular}]}                                                            |0002|Raised       |0.55|[{5001, None}, {5002, Glazed}, {5005, Sugar}, {5003, Chocolate}, {5004, Maple}]                                                          |donut|\n",
      "|{[{1001, Regular}, {1002, Chocolate}]}                                         |0003|Old Fashioned|0.55|[{5001, None}, {5002, Glazed}, {5003, Chocolate}, {5004, Maple}]                                                                         |donut|\n",
      "+-------------------------------------------------------------------------------+----+-------------+----+-----------------------------------------------------------------------------------------------------------------------------------------+-----+\n",
      "\n"
     ]
    }
   ],
   "source": [
    "try:\n",
    "\n",
    "    # JSON_df = spark.read.json(\"C:/Users/Vishal/spark-pyspark/JSON_4_Analysis.json\") # This will not work as the JSON file is not in the correct format\n",
    "    # JSON_df = spark.read.json(r\"C:\\Users\\Vishal\\spark-pyspark\\JSON_4_Analysis.json\")\n",
    "    JSON_df = spark.read.option(\"multiLine\", True).json(\"C:/Users/Vishal/spark-pyspark/data/JSON_4_Analysis.json\")\n",
    "    NESTED_JSON_df = spark.read.option(\"multiLine\", True).json(\"C:/Users/Vishal/spark-pyspark/data/Nested_JSON.json\")\n",
    "\n",
    "    NESTED_JSON_df.printSchema() \n",
    "    NESTED_JSON_df.show(truncate=False)\n",
    "\n",
    "    #Normalize the nested JSON & Flatten the nested JSON\n",
    "\n",
    "    # Step 3: Display the schema and data\n",
    "    # JSON_df.printSchema()  \n",
    "    # # View the schema\n",
    "    # JSON_df.show(truncate=False)\n",
    "\n",
    "except Exception as e:\n",
    "    print(f\"Error: {e}\")\n"
   ]
  },
  {
   "cell_type": "code",
   "execution_count": 24,
   "metadata": {},
   "outputs": [],
   "source": [
    "# Stop the Spark context\n",
    "sc.stop()"
   ]
  }
 ],
 "metadata": {
  "kernelspec": {
   "display_name": "Python 3",
   "language": "python",
   "name": "python3"
  },
  "language_info": {
   "codemirror_mode": {
    "name": "ipython",
    "version": 3
   },
   "file_extension": ".py",
   "mimetype": "text/x-python",
   "name": "python",
   "nbconvert_exporter": "python",
   "pygments_lexer": "ipython3",
   "version": "3.11.3"
  }
 },
 "nbformat": 4,
 "nbformat_minor": 2
}
