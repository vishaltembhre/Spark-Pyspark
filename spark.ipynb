{
 "cells": [
  {
   "cell_type": "code",
   "execution_count": null,
   "metadata": {},
   "outputs": [],
   "source": [
    "import findspark\n",
    "findspark.init()"
   ]
  },
  {
   "cell_type": "code",
   "execution_count": 2,
   "metadata": {},
   "outputs": [],
   "source": [
    "from pyspark import SparkContext, SparkConf  # type: ignore\n",
    "\n",
    "# Initialize Spark context\n",
    "conf = SparkConf().setAppName(\"WordCount\").setMaster(\"local\")\n",
    "sc = SparkContext(conf=conf)"
   ]
  },
  {
   "cell_type": "code",
   "execution_count": null,
   "metadata": {},
   "outputs": [],
   "source": [
    "try:\n",
    "    # Read the text file\n",
    "    text_file = sc.textFile(\"C:/Users/Vishal/spark-pyspark/House-of-the-Dragon_S01E04_English-ELSUBTITLE.COM-SUL_344211.srt\")\n",
    "\n",
    "    # Split each line into words\n",
    "    words = text_file.flatMap(lambda line: line.split())\n",
    "\n",
    "    # Map each word to a (word, 1) pair\n",
    "    word_pairs = words.map(lambda word: (word, 1))\n",
    "\n",
    "    # Reduce by key to count the occurrences of each word\n",
    "    word_counts = word_pairs.reduceByKey(lambda a, b: a + b)\n",
    "\n",
    "    # Collect the results and print them\n",
    "    for word, count in word_counts.collect():\n",
    "        print(f\"{word}: {count}\")\n",
    "\n",
    "except Exception as e:\n",
    "    print(f\"Error: {e}\")"
   ]
  },
  {
   "cell_type": "code",
   "execution_count": null,
   "metadata": {},
   "outputs": [],
   "source": [
    "try:\n",
    "    # Read the text file\n",
    "    text_file2 = sc.textFile(\"C:/Users/Vishal/spark-pyspark/House-of-the-Dragon_S01E04_English-ELSUBTITLE.COM-SUL_344211.srt\")\n",
    "\n",
    "    # Transformation 1: Split each line into words\n",
    "    words = text_file.flatMap(lambda line: line.split())\n",
    "\n",
    "    # Transformation 2: Filter out empty words\n",
    "    non_empty_words = words.filter(lambda word: word.strip() != \"\")\n",
    "\n",
    "    # Transformation 3: Map each word to a (word, 1) pair\n",
    "    word_pairs = non_empty_words.map(lambda word: (word, 1))\n",
    "\n",
    "    # Transformation 4: Reduce by key to count the occurrences of each word\n",
    "    word_counts = word_pairs.reduceByKey(lambda a, b: a + b)\n",
    "\n",
    "    # Action 1: Collect the results\n",
    "    collected_word_counts = word_counts.collect()\n",
    "\n",
    "    # Action 2: Count the total number of words\n",
    "    total_words = non_empty_words.count()\n",
    "\n",
    "    # Action 3: Take the first 10 word counts\n",
    "    sample_word_counts = word_counts.take(10)\n",
    "\n",
    "    # Print the results\n",
    "    print(\"Collected Word Counts:\")\n",
    "    for word, count in collected_word_counts:\n",
    "        print(f\"{word}: {count}\")\n",
    "\n",
    "    print(f\"\\nTotal Number of Words: {total_words}\")\n",
    "\n",
    "    print(\"\\nSample Word Counts:\")\n",
    "    for word, count in sample_word_counts:\n",
    "        print(f\"{word}: {count}\")\n",
    "except Exception as e:\n",
    "    print(f\"Error: {e}\")\n"
   ]
  },
  {
   "cell_type": "code",
   "execution_count": 7,
   "metadata": {},
   "outputs": [],
   "source": [
    "# Stop the Spark context\n",
    "sc.stop()"
   ]
  }
 ],
 "metadata": {
  "kernelspec": {
   "display_name": "sparkvenv",
   "language": "python",
   "name": "python3"
  },
  "language_info": {
   "codemirror_mode": {
    "name": "ipython",
    "version": 3
   },
   "file_extension": ".py",
   "mimetype": "text/x-python",
   "name": "python",
   "nbconvert_exporter": "python",
   "pygments_lexer": "ipython3",
   "version": "3.11.3"
  }
 },
 "nbformat": 4,
 "nbformat_minor": 2
}
